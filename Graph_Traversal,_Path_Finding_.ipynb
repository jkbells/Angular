{
  "nbformat": 4,
  "nbformat_minor": 0,
  "metadata": {
    "colab": {
      "name": "Graph Traversal, Path Finding .ipynb",
      "provenance": [],
      "collapsed_sections": [],
      "authorship_tag": "ABX9TyNbvRpoEJaP8jNVeNasu2m3",
      "include_colab_link": true
    },
    "kernelspec": {
      "name": "python3",
      "display_name": "Python 3"
    },
    "language_info": {
      "name": "python"
    }
  },
  "cells": [
    {
      "cell_type": "markdown",
      "metadata": {
        "id": "view-in-github",
        "colab_type": "text"
      },
      "source": [
        "<a href=\"https://colab.research.google.com/github/jkbells/Angular/blob/main/Graph_Traversal%2C_Path_Finding_.ipynb\" target=\"_parent\"><img src=\"https://colab.research.google.com/assets/colab-badge.svg\" alt=\"Open In Colab\"/></a>"
      ]
    },
    {
      "cell_type": "markdown",
      "metadata": {
        "id": "pmYIVeTyDD9H"
      },
      "source": [
        "# **Graphs - Traversal and Path Finding**"
      ]
    },
    {
      "cell_type": "code",
      "metadata": {
        "colab": {
          "base_uri": "https://localhost:8080/"
        },
        "id": "3jI86bW2yOLk",
        "outputId": "26975ced-591a-496b-d2e9-0347f9dfab45"
      },
      "source": [
        "!pip install networkx   # install once"
      ],
      "execution_count": 53,
      "outputs": [
        {
          "output_type": "stream",
          "text": [
            "Requirement already satisfied: networkx in /usr/local/lib/python3.7/dist-packages (2.6.2)\n"
          ],
          "name": "stdout"
        }
      ]
    },
    {
      "cell_type": "code",
      "metadata": {
        "id": "PV_6f6hEDO4D"
      },
      "source": [
        "import networkx as nx\n",
        "import matplotlib.pyplot as plt\n",
        "\n",
        "# for notebook\n",
        "%matplotlib inline\n",
        "import warnings\n",
        "warnings.filterwarnings(\"ignore\")"
      ],
      "execution_count": 54,
      "outputs": []
    },
    {
      "cell_type": "code",
      "metadata": {
        "id": "6LvEzP3tNfW9"
      },
      "source": [
        "def draw_graph_with_nx(G):\n",
        "  pos = nx.spring_layout(6, iterations=200)\n",
        "  options = {'node_color': 'white', 'alpha': 1, 'node_size': 2000, 'width': 0.002,\n",
        "             'font_size': 25, 'arrow': True, 'edge_color' : 'brown',\n",
        "             'arrowstyle': 'Fancy, head_lenght=1, tail_width=4'\n",
        "            }\n",
        "\n",
        "  labels = nx.get_node_attributes(G, 'label')\n",
        "  nx.draw(G, pos, labels=labels, **options)\n",
        "  plt.show()"
      ],
      "execution_count": 55,
      "outputs": []
    },
    {
      "cell_type": "code",
      "metadata": {
        "id": "g9ZGhdhHO04t"
      },
      "source": [
        "class DiGraph:\n",
        "  def __init__(self):\n",
        "    self.g = {}\n",
        "\n",
        "  def add_node(self, node):\n",
        "    if node in self.g:\n",
        "      raise ValueError(\"Node already in graph\")\n",
        "\n",
        "    self.g[node] = []\n",
        "\n",
        "  def add_edge(self, src, dest):\n",
        "    if src not in self.g:\n",
        "      raise ValueError(\"Sourse node in graph\")\n",
        "    if dest not in self.g:\n",
        "      raise ValueError(\"Destination node not in graph\")\n",
        "\n",
        "    nexts = self.g[src]\n",
        "    if dest in nexts:\n",
        "      return\n",
        "\n",
        "    nexts.append(dest)\n",
        "\n",
        "  def draw_graph(self):\n",
        "    G = nx.DiGraph()\n",
        "    for src in self.g:\n",
        "      G.add_node(src, label=src)\n",
        "      for dest in self.g[src]:\n",
        "        G.add_edge(src, dest)\n",
        "\n",
        "    draw_graph_with_nx(G)"
      ],
      "execution_count": 56,
      "outputs": []
    },
    {
      "cell_type": "code",
      "metadata": {
        "id": "bReYxR8yPoDc"
      },
      "source": [
        "g = DiGraph()\n",
        "\n",
        "nodes = ['a', 'b', 'c', 'd', 'e', 'f']\n",
        "\n",
        "for n in nodes:\n",
        "  g.add_node(n)"
      ],
      "execution_count": 57,
      "outputs": []
    },
    {
      "cell_type": "code",
      "metadata": {
        "id": "03kOYXonQ-ni"
      },
      "source": [
        "edges = [\n",
        "         ('a', 'b'),\n",
        "         ('a', 'c'),\n",
        "         ('b', 'c'),\n",
        "         ('b', 'd'),\n",
        "         ('c', 'd'),\n",
        "         ('d', 'c'),\n",
        "         ('e', 'f'),\n",
        "         ('f', 'c')\n",
        "]\n",
        "\n",
        "for e in edges:\n",
        "  g.add_edge(e[0], e[1])"
      ],
      "execution_count": 58,
      "outputs": []
    },
    {
      "cell_type": "code",
      "metadata": {
        "colab": {
          "base_uri": "https://localhost:8080/"
        },
        "id": "_MX7ODePRzmn",
        "outputId": "e58ec507-ea21-44d6-c7d9-6d10bbba9418"
      },
      "source": [
        "print(g.g)  # Abstraction Police: Don't freak out! We're just looking."
      ],
      "execution_count": 59,
      "outputs": [
        {
          "output_type": "stream",
          "text": [
            "{'a': ['b', 'c'], 'b': ['c', 'd'], 'c': ['d'], 'd': ['c'], 'e': ['f'], 'f': ['c']}\n"
          ],
          "name": "stdout"
        }
      ]
    },
    {
      "cell_type": "code",
      "metadata": {
        "colab": {
          "base_uri": "https://localhost:8080/"
        },
        "id": "8AxVLG0mTCHL",
        "outputId": "cae61308-0608-432c-b8f5-9fc1b88a3581"
      },
      "source": [
        "import pprint   # pretty printing!\n",
        "pprint.pprint(g.g)"
      ],
      "execution_count": 60,
      "outputs": [
        {
          "output_type": "stream",
          "text": [
            "{'a': ['b', 'c'],\n",
            " 'b': ['c', 'd'],\n",
            " 'c': ['d'],\n",
            " 'd': ['c'],\n",
            " 'e': ['f'],\n",
            " 'f': ['c']}\n"
          ],
          "name": "stdout"
        }
      ]
    },
    {
      "cell_type": "code",
      "metadata": {
        "id": "ZXKjUdEwTUYS"
      },
      "source": [
        ""
      ],
      "execution_count": 83,
      "outputs": []
    },
    {
      "cell_type": "code",
      "metadata": {
        "id": "ONYqpCOjTfav"
      },
      "source": [
        "def traverse_graph(self, start):\n",
        "  \"\"\"Traverse graph starting form given start node.\"\"\"\n",
        "\n",
        "  q = [start] \n",
        "  visited = []\n",
        "\n",
        "  while q:\n",
        "    current = q.pop()\n",
        "\n",
        "    # if we've already visited it, we can skip\n",
        "    if current in visited:\n",
        "      continue\n",
        "\n",
        "    print(current)\n",
        "\n",
        "    # we're done with current\n",
        "    visited.append(current)\n",
        "\n",
        "    # get all directly connected nodes\n",
        "    next_nodes = self.g[current]\n",
        "\n",
        "    # traverse all the nexts\n",
        "    for n in next_nodes:\n",
        "      q.append(n)\n",
        "\n",
        "DiGraph.traverse_graph = traverse_graph"
      ],
      "execution_count": 62,
      "outputs": []
    },
    {
      "cell_type": "code",
      "metadata": {
        "colab": {
          "base_uri": "https://localhost:8080/"
        },
        "id": "ODnYFUy9Wug4",
        "outputId": "4aa5927e-b082-4499-8004-a146abd7cfc8"
      },
      "source": [
        "g.traverse_graph('a')   # also traverse from a"
      ],
      "execution_count": 63,
      "outputs": [
        {
          "output_type": "stream",
          "text": [
            "a\n",
            "c\n",
            "d\n",
            "b\n"
          ],
          "name": "stdout"
        }
      ]
    },
    {
      "cell_type": "code",
      "metadata": {
        "id": "7l_Knc80W9c-"
      },
      "source": [
        "def find_path(self, start, end, path=[]):\n",
        "  \"\"\"Find path (not necessarily shortest) from start to end.\"\"\"\n",
        "  # sanity check\n",
        "  if start not in self.g:\n",
        "    raise valueError(\"Sourse node not in graph\")\n",
        "\n",
        "\n",
        "  # save the path we have traversed till now\n",
        "  path = path + [start]\n",
        "\n",
        "  # base case\n",
        "  if start == end:\n",
        "    return path\n",
        "\n",
        "  # recursive case\n",
        "  for node in self.g[start]:\n",
        "\n",
        "    # need to avoid cycles\n",
        "    if node not in path:\n",
        "\n",
        "      # find path next node to\n",
        "      newpath = self.find_path(node, end, path)\n",
        "      if newpath:\n",
        "        return newpath\n",
        "\n",
        "  # if no path can be found from any of the next nodes to the end, there's no path!\n",
        "  return None\n",
        "\n",
        "DiGraph.find_path = find_path"
      ],
      "execution_count": 64,
      "outputs": []
    },
    {
      "cell_type": "code",
      "metadata": {
        "colab": {
          "base_uri": "https://localhost:8080/"
        },
        "id": "dnUZnpHka9jp",
        "outputId": "251fb3b7-882b-4a62-aa14-3d3f03b0dbed"
      },
      "source": [
        "g.find_path('d', 'd')"
      ],
      "execution_count": 65,
      "outputs": [
        {
          "output_type": "execute_result",
          "data": {
            "text/plain": [
              "['d']"
            ]
          },
          "metadata": {},
          "execution_count": 65
        }
      ]
    },
    {
      "cell_type": "code",
      "metadata": {
        "colab": {
          "base_uri": "https://localhost:8080/"
        },
        "id": "ixdJVp4ybAiA",
        "outputId": "e61bbf15-f2aa-40c5-93db-0ce8475deb2c"
      },
      "source": [
        "g.find_path('a' , 'a')"
      ],
      "execution_count": 66,
      "outputs": [
        {
          "output_type": "execute_result",
          "data": {
            "text/plain": [
              "['a']"
            ]
          },
          "metadata": {},
          "execution_count": 66
        }
      ]
    },
    {
      "cell_type": "code",
      "metadata": {
        "colab": {
          "base_uri": "https://localhost:8080/"
        },
        "id": "Hk70EKqcbVVL",
        "outputId": "b52e9993-0d88-4040-a173-2b7339aac225"
      },
      "source": [
        "g.find_path('a', 'c')"
      ],
      "execution_count": 67,
      "outputs": [
        {
          "output_type": "execute_result",
          "data": {
            "text/plain": [
              "['a', 'b', 'c']"
            ]
          },
          "metadata": {},
          "execution_count": 67
        }
      ]
    },
    {
      "cell_type": "code",
      "metadata": {
        "colab": {
          "base_uri": "https://localhost:8080/"
        },
        "id": "VWaqIPuubYpS",
        "outputId": "16a1dc05-0503-424c-96c7-4ff0ce066444"
      },
      "source": [
        "g.find_path('a','d')"
      ],
      "execution_count": 68,
      "outputs": [
        {
          "output_type": "execute_result",
          "data": {
            "text/plain": [
              "['a', 'b', 'c', 'd']"
            ]
          },
          "metadata": {},
          "execution_count": 68
        }
      ]
    },
    {
      "cell_type": "code",
      "metadata": {
        "colab": {
          "base_uri": "https://localhost:8080/"
        },
        "id": "5-wHHgMSbcu8",
        "outputId": "4f4020b7-13c7-41d6-f39a-e667217f76d9"
      },
      "source": [
        "print(g.find_path('a', 'f'))"
      ],
      "execution_count": 69,
      "outputs": [
        {
          "output_type": "stream",
          "text": [
            "None\n"
          ],
          "name": "stdout"
        }
      ]
    },
    {
      "cell_type": "markdown",
      "metadata": {
        "id": "ZxzdmpydlEE_"
      },
      "source": [
        "# **Find All Paths Instead**"
      ]
    },
    {
      "cell_type": "code",
      "metadata": {
        "id": "6qeaOidIbfwt"
      },
      "source": [
        "def find_all_paths(self, start, end, path=[]):\n",
        "  \"\"\"Find path (not necessarily shortest) from start to end.\"\"\"\n",
        "  # sanity check\n",
        "  if start not in self.g:\n",
        "    raise ValueError(\"Source node not in graph\")\n",
        "\n",
        "\n",
        "  # save the path we have traversed till now\n",
        "  path = path + [start]\n",
        "\n",
        "  # base case\n",
        "  if start == end:\n",
        "    return [path]    # return the path in a list since we may have many\n",
        "\n",
        "\n",
        "  all_paths = []\n",
        "\n",
        "  # recursive case\n",
        "  for node in self.g[start]:\n",
        "\n",
        "    # need to avoid cycles\n",
        "    if node not in path:\n",
        "\n",
        "      # find path from next node to\n",
        "      all_newpaths = self.find_all_paths(node,end,path)\n",
        "      for newpath in all_newpaths:\n",
        "        all_paths.append(newpath)\n",
        "\n",
        "  # if no path can be found from any of the next nodes to the end, there's no path!\n",
        "  return all_paths\n",
        "\n",
        "DiGraph.find_all_paths = find_all_paths"
      ],
      "execution_count": 72,
      "outputs": []
    },
    {
      "cell_type": "code",
      "metadata": {
        "colab": {
          "base_uri": "https://localhost:8080/"
        },
        "id": "e4A5gwI7my_m",
        "outputId": "2c6c721b-a818-43d6-b981-e7e58237437a"
      },
      "source": [
        "g.find_all_paths('a','d')"
      ],
      "execution_count": 73,
      "outputs": [
        {
          "output_type": "execute_result",
          "data": {
            "text/plain": [
              "[['a', 'b', 'c', 'd'], ['a', 'b', 'd'], ['a', 'c', 'd']]"
            ]
          },
          "metadata": {},
          "execution_count": 73
        }
      ]
    },
    {
      "cell_type": "markdown",
      "metadata": {
        "id": "cf-ve8g0rAU3"
      },
      "source": [
        "# **Shortest Path**"
      ]
    },
    {
      "cell_type": "code",
      "metadata": {
        "id": "mu2yEAhYnENQ"
      },
      "source": [
        "def find_shortest_path(self, start, end, path=[]):\n",
        "  \"\"\"Find path (not necessarily shortest) from the start to end.\"\"\"\n",
        "  # sanity check\n",
        "  if start not in self.g:\n",
        "    raise ValueError(\"Source node not in graph\")\n",
        "\n",
        "\n",
        "  # save the path we have traversed till now\n",
        "  path = path + [start]\n",
        "\n",
        "  # base case\n",
        "  if start == end:\n",
        "    return path\n",
        "\n",
        "\n",
        "  shortest = None  # change\n",
        "  # recursive case\n",
        "  for node in self.g[start]:\n",
        "\n",
        "    # need to avoid cycles\n",
        "    if node not in path:\n",
        "\n",
        "      # find path from next node to\n",
        "      newpath = self.find_shortest_path(node, end, path)\n",
        "      if newpath:\n",
        "        if shortest is None or len(newpath) < len(shortest):    # change\n",
        "          shortest = newpath \n",
        "\n",
        "  # if no path can be found from any of the next nodes to the end, there's no path!\n",
        "  return shortest\n",
        "\n",
        "DiGraph.find_shortest_path = find_shortest_path\n",
        "\n"
      ],
      "execution_count": 82,
      "outputs": []
    },
    {
      "cell_type": "code",
      "metadata": {
        "colab": {
          "base_uri": "https://localhost:8080/"
        },
        "id": "4GPiTShsshtg",
        "outputId": "7287b30e-2bb7-4522-9301-66c7ad5e936c"
      },
      "source": [
        "g.find_shortest_path('a', 'd')"
      ],
      "execution_count": 83,
      "outputs": [
        {
          "output_type": "execute_result",
          "data": {
            "text/plain": [
              "['a', 'b', 'd']"
            ]
          },
          "metadata": {},
          "execution_count": 83
        }
      ]
    },
    {
      "cell_type": "code",
      "metadata": {
        "colab": {
          "base_uri": "https://localhost:8080/"
        },
        "id": "nYf1QJB6su_s",
        "outputId": "35919944-3d91-4fbd-bf1a-8c3af55c2ed8"
      },
      "source": [
        "g.find_path('a', 'd')"
      ],
      "execution_count": 78,
      "outputs": [
        {
          "output_type": "execute_result",
          "data": {
            "text/plain": [
              "['a', 'b', 'c', 'd']"
            ]
          },
          "metadata": {},
          "execution_count": 78
        }
      ]
    },
    {
      "cell_type": "code",
      "metadata": {
        "id": "NF5wnP4ItL30"
      },
      "source": [
        ""
      ],
      "execution_count": null,
      "outputs": []
    }
  ]
}